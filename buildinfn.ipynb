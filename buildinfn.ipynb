{
  "nbformat": 4,
  "nbformat_minor": 0,
  "metadata": {
    "colab": {
      "provenance": [],
      "authorship_tag": "ABX9TyOj1BCyWOoOrNJPMyzeAJ6i",
      "include_colab_link": true
    },
    "kernelspec": {
      "name": "python3",
      "display_name": "Python 3"
    },
    "language_info": {
      "name": "python"
    }
  },
  "cells": [
    {
      "cell_type": "markdown",
      "metadata": {
        "id": "view-in-github",
        "colab_type": "text"
      },
      "source": [
        "<a href=\"https://colab.research.google.com/github/ds2025-col/buildinfn/blob/main/buildinfn.ipynb\" target=\"_parent\"><img src=\"https://colab.research.google.com/assets/colab-badge.svg\" alt=\"Open In Colab\"/></a>"
      ]
    },
    {
      "cell_type": "code",
      "execution_count": null,
      "metadata": {
        "id": "Y5KXj0bKr0Mh"
      },
      "outputs": [],
      "source": []
    },
    {
      "cell_type": "markdown",
      "source": [
        "**map()**\n",
        "\n",
        "the map() transform a given list to a new list by transforming each using a rule,its used to apply a function to each of a list or any other literable.\n",
        "\n",
        "This is very usefull when we do vector mathematics.The map() will take multiple lists operates them and return output list.One thing to note is that all list should be same size becuase map() applies the function to corresponding element in those list.\n"
      ],
      "metadata": {
        "id": "4FN1WiIJr6VT"
      }
    },
    {
      "cell_type": "code",
      "source": [
        "list1=[1,2,3,4]    #lambda x:x**2 function square each number\n",
        "x=map(lambda x:x**2,list1)      #map() return an iterator which is converted to a list\n",
        "print(list(x))"
      ],
      "metadata": {
        "colab": {
          "base_uri": "https://localhost:8080/"
        },
        "id": "jjllwnkGuhrm",
        "outputId": "99beb433-0edd-46f1-e4f4-7a1178da2dbc"
      },
      "execution_count": 1,
      "outputs": [
        {
          "output_type": "stream",
          "name": "stdout",
          "text": [
            "[1, 4, 9, 16]\n"
          ]
        }
      ]
    },
    {
      "cell_type": "code",
      "source": [
        "list1=['mango','apple','banana']   #calculate the lenght of each string\n",
        "a=map(lambda x:len(x),list1)       #map() return an iterator which must  to be converted in to a list.\n",
        "print(list(a))"
      ],
      "metadata": {
        "colab": {
          "base_uri": "https://localhost:8080/"
        },
        "id": "BZqa1TT6wIut",
        "outputId": "5e866296-6e36-4e25-eff6-7dea16015e50"
      },
      "execution_count": 2,
      "outputs": [
        {
          "output_type": "stream",
          "name": "stdout",
          "text": [
            "[5, 5, 6]\n"
          ]
        }
      ]
    },
    {
      "cell_type": "code",
      "source": [
        "list1=['mango','banana','apple']\n",
        "a=map(lambda x:x.upper(),list1)\n",
        "print(list(a))"
      ],
      "metadata": {
        "colab": {
          "base_uri": "https://localhost:8080/"
        },
        "id": "_s20q96mxTnz",
        "outputId": "29b0fd3c-b60f-4f06-9133-89eaab9b2b75"
      },
      "execution_count": 4,
      "outputs": [
        {
          "output_type": "stream",
          "name": "stdout",
          "text": [
            "['MANGO', 'BANANA', 'APPLE']\n"
          ]
        }
      ]
    },
    {
      "cell_type": "code",
      "source": [
        "list1=[1,2,3,4]\n"
      ],
      "metadata": {
        "id": "IAJ8ToPTygNG"
      },
      "execution_count": null,
      "outputs": []
    },
    {
      "cell_type": "markdown",
      "source": [
        "**ZIP()\n",
        "\n",
        "\n",
        " The zip() take iterable (can be zero or more) makes iterator that aggregate element based on the iterable passed and retus an iterator or tuble**"
      ],
      "metadata": {
        "id": "n_VOfn_Zy6TE"
      }
    },
    {
      "cell_type": "code",
      "source": [
        "list1=[1,2,3,4]\n",
        "list2=[2,3,4,5,6,7]\n",
        "x=tuple(zip(list1,list2))\n",
        "print(x)"
      ],
      "metadata": {
        "colab": {
          "base_uri": "https://localhost:8080/"
        },
        "id": "YJdf9gcgz_6D",
        "outputId": "0d95e2e3-9b32-4b67-cee4-8b3023739375"
      },
      "execution_count": 5,
      "outputs": [
        {
          "output_type": "stream",
          "name": "stdout",
          "text": [
            "((1, 2), (2, 3), (3, 4), (4, 5))\n"
          ]
        }
      ]
    },
    {
      "cell_type": "code",
      "source": [
        "list1=[1,2,3,4]\n",
        "list2=[1,2,33,5,4,9]\n",
        "x=set(zip(list1,list2))\n",
        "print(x)"
      ],
      "metadata": {
        "colab": {
          "base_uri": "https://localhost:8080/"
        },
        "id": "SoYKTWts2_Th",
        "outputId": "2b17c30e-fd73-40a1-b6a3-6139160b8de6"
      },
      "execution_count": 8,
      "outputs": [
        {
          "output_type": "stream",
          "name": "stdout",
          "text": [
            "{(4, 5), (1, 1), (3, 33), (2, 2)}\n"
          ]
        }
      ]
    },
    {
      "cell_type": "code",
      "source": [
        "list1=[1,2,3,4]\n",
        "list2=[2,3,7,8]\n",
        "x=dict(zip(list1,list2))\n",
        "print(x)"
      ],
      "metadata": {
        "colab": {
          "base_uri": "https://localhost:8080/"
        },
        "id": "_4GQoixD3a4-",
        "outputId": "80bb1cf7-511b-41d0-df6f-4591599d2d81"
      },
      "execution_count": 9,
      "outputs": [
        {
          "output_type": "stream",
          "name": "stdout",
          "text": [
            "{1: 2, 2: 3, 3: 7, 4: 8}\n"
          ]
        }
      ]
    },
    {
      "cell_type": "code",
      "source": [
        "list1=[1,2,3,4]\n",
        "list2=[3,4,,6,7]\n",
        "x="
      ],
      "metadata": {
        "id": "EH0liIzv30an"
      },
      "execution_count": null,
      "outputs": []
    },
    {
      "cell_type": "code",
      "source": [
        "for x in zip(list1,list2):\n",
        "  print(x)"
      ],
      "metadata": {
        "colab": {
          "base_uri": "https://localhost:8080/"
        },
        "id": "vHUENCvO0c3D",
        "outputId": "20a192b5-d396-4d55-a746-98fb1d27ba2b"
      },
      "execution_count": 6,
      "outputs": [
        {
          "output_type": "stream",
          "name": "stdout",
          "text": [
            "(1, 2)\n",
            "(2, 3)\n",
            "(3, 4)\n",
            "(4, 5)\n"
          ]
        }
      ]
    },
    {
      "cell_type": "markdown",
      "source": [
        "**FILTER()**\n",
        "\n",
        "\n",
        "a filter() operate on a list return a subset of that list after applying the filter rule\n"
      ],
      "metadata": {
        "id": "boEEk6Vg1L5O"
      }
    },
    {
      "cell_type": "code",
      "source": [
        "list1=[1,2,3,4,5,6,7,8]\n",
        "x=filter(lambda x :x%2==0,list1)     #keep only even number\n",
        "list2=list(x)                        #filter() returns an iterator which we can covert to a list\n",
        "print(list2)"
      ],
      "metadata": {
        "colab": {
          "base_uri": "https://localhost:8080/"
        },
        "id": "W5EWRIWg1udm",
        "outputId": "01706d8d-41cd-401a-96f3-e71336642914"
      },
      "execution_count": 7,
      "outputs": [
        {
          "output_type": "stream",
          "name": "stdout",
          "text": [
            "[2, 4, 6, 8]\n"
          ]
        }
      ]
    },
    {
      "cell_type": "markdown",
      "source": [
        "**scope**\n",
        "a varible is only available from the region it is created,this is called scope\n",
        "\n",
        "**local scope**\n",
        "\n",
        "a variable created inside a function belongs to the local scope of that function and only used inside the fuction"
      ],
      "metadata": {
        "id": "lU1IXvtM4Xyn"
      }
    },
    {
      "cell_type": "code",
      "source": [
        "def myfn():\n",
        "  x=22.3\n",
        "  print(x)\n",
        "myfn()"
      ],
      "metadata": {
        "colab": {
          "base_uri": "https://localhost:8080/"
        },
        "id": "SCrIo0t55haN",
        "outputId": "e225c7eb-43d5-4333-a7e3-7113378fbc1c"
      },
      "execution_count": 10,
      "outputs": [
        {
          "output_type": "stream",
          "name": "stdout",
          "text": [
            "22.3\n"
          ]
        }
      ]
    },
    {
      "cell_type": "code",
      "source": [
        "def myfn():\n",
        " x=200\n",
        " def myinnerfn():\n",
        "  print(x)\n",
        " myinnerfn()\n",
        "myfn()\n"
      ],
      "metadata": {
        "colab": {
          "base_uri": "https://localhost:8080/"
        },
        "id": "KaXpfBPE6J-Z",
        "outputId": "6b32ff58-0ee3-4d52-8905-80cee775ada7"
      },
      "execution_count": 13,
      "outputs": [
        {
          "output_type": "stream",
          "name": "stdout",
          "text": [
            "200\n"
          ]
        }
      ]
    },
    {
      "cell_type": "markdown",
      "source": [
        "**GLOBAL SCOPE**\n",
        "\n",
        "A variable created in the main body of pyhton code is a global variable and belongs to the global scope\n",
        "\n",
        "a global variable are available from within any scope,global and local\n",
        "\n",
        "variable created outside of a function is global and can be used by anyone\n",
        "\n"
      ],
      "metadata": {
        "id": "C9FiEKt868Jv"
      }
    },
    {
      "cell_type": "code",
      "source": [
        "x=18\n",
        "def myfn():\n",
        "  y=29\n",
        "  def myfn1():\n",
        "    print(x)\n",
        "  myfn1()\n",
        "myfn()\n",
        "print(x)\n"
      ],
      "metadata": {
        "colab": {
          "base_uri": "https://localhost:8080/"
        },
        "id": "LF8reu4I6-1P",
        "outputId": "144a6931-2bb4-440e-b8e3-950864689674"
      },
      "execution_count": 15,
      "outputs": [
        {
          "output_type": "stream",
          "name": "stdout",
          "text": [
            "18\n",
            "18\n"
          ]
        }
      ]
    },
    {
      "cell_type": "code",
      "source": [
        "#global keyword convert a local varialble into global variable\n",
        "\n",
        "def myfn():\n",
        "  global x\n",
        "  x=20\n",
        "  def fn2():\n",
        "    print(x)\n",
        "  fn2()\n",
        "myfn()\n",
        "print(x)"
      ],
      "metadata": {
        "colab": {
          "base_uri": "https://localhost:8080/"
        },
        "id": "slETxR9A67RG",
        "outputId": "eeb801f1-a632-47b9-ff93-57c659555273"
      },
      "execution_count": 16,
      "outputs": [
        {
          "output_type": "stream",
          "name": "stdout",
          "text": [
            "20\n",
            "20\n"
          ]
        }
      ]
    },
    {
      "cell_type": "code",
      "source": [
        "y=50\n",
        "def myfn1():\n",
        "  global x\n",
        "  x=200\n",
        "  def myfn2():\n",
        "    print(y)\n",
        "  myfn2()\n",
        "myfn1()\n",
        "print(x)\n",
        "print(y)"
      ],
      "metadata": {
        "colab": {
          "base_uri": "https://localhost:8080/"
        },
        "id": "k_lMS0KL-52C",
        "outputId": "5ae9bab6-78d4-42ad-88fc-c142479f8e80"
      },
      "execution_count": 17,
      "outputs": [
        {
          "output_type": "stream",
          "name": "stdout",
          "text": [
            "50\n",
            "200\n",
            "50\n"
          ]
        }
      ]
    }
  ]
}